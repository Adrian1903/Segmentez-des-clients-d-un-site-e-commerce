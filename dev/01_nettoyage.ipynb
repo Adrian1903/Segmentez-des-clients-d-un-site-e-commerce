{
 "metadata": {
  "language_info": {
   "codemirror_mode": {
    "name": "ipython",
    "version": 3
   },
   "file_extension": ".py",
   "mimetype": "text/x-python",
   "name": "python",
   "nbconvert_exporter": "python",
   "pygments_lexer": "ipython3",
   "version": "3.7.6-final"
  },
  "orig_nbformat": 2,
  "kernelspec": {
   "name": "python3",
   "display_name": "Python 3"
  }
 },
 "nbformat": 4,
 "nbformat_minor": 2,
 "cells": [
  {
   "cell_type": "markdown",
   "metadata": {},
   "source": [
    "# Notebook de nettoyage - Adrian Rodriguez - Projet 3 parcours Ingénieur Machine Learning"
   ]
  },
  {
   "cell_type": "markdown",
   "metadata": {},
   "source": [
    "---\n",
    "# 0. Contexte\n"
   ]
  },
  {
   "cell_type": "markdown",
   "metadata": {},
   "source": [
    "Vous êtes consultant pour Olist, une solution de vente sur les marketplaces en ligne.\n",
    "\n",
    "Olist souhaite que vous fournissiez à ses équipes d'e-commerce une segmentation des clients qu’elles pourront utiliser au quotidien pour leurs campagnes de communication.\n",
    "\n",
    "Votre objectif est de comprendre les différents types d’utilisateurs grâce à leur comportement et à leurs données personnelles.\n",
    "\n",
    "Vous devrez fournir à l’équipe marketing une description actionable de votre segmentation et de sa logique sous-jacente pour une utilisation optimale, ainsi qu’une proposition de contrat de maintenance basée sur une analyse de la stabilité des segments au cours du temps.\n",
    "\n",
    "### Les données\n",
    "Pour cette mission, Olist vous fournit une base de données anonymisée comportant des informations sur l’historique de commandes, les produits achetés, les commentaires de satisfaction, et la localisation des clients depuis janvier 2017.\n",
    "\n",
    "### Votre mission\n",
    "Votre mission est d’aider les équipes d’Olist à comprendre les différents types d'utilisateurs. Vous utiliserez donc des méthodes non supervisées pour regrouper ensemble des clients de profils similaires. Ces catégories pourront être utilisées par l’équipe marketing pour mieux communiquer.\n",
    "\n",
    "Pour des raisons de confidentialité, Olist ne fournit pas beaucoup de données, à vous de fouiller dans celles dont vous disposez et de créer les meilleures features pour les exploiter.\n",
    "\n",
    "Enfin, votre client, Olist, a spécifié sa demande ainsi :\n",
    "\n",
    "- La segmentation proposée doit être exploitable et facile d’utilisation pour l’équipe marketing.\n",
    "- Vous évaluerez la fréquence à laquelle la segmentation doit être mise à jour, afin de pouvoir effectuer un devis de contrat de maintenance.\n",
    "- Le code fourni doit respecter la convention PEP8, pour être utilisable par Olist."
   ]
  },
  {
   "cell_type": "markdown",
   "metadata": {},
   "source": [
    "# 1. Importation et exploration préliminaire"
   ]
  },
  {
   "cell_type": "code",
   "execution_count": 28,
   "metadata": {
    "tags": []
   },
   "outputs": [
    {
     "output_type": "stream",
     "name": "stdout",
     "text": "The pycodestyle_magic extension is already loaded. To reload it, use:\n  %reload_ext pycodestyle_magic\n"
    }
   ],
   "source": [
    "import pandas as pd\n",
    "from pandas_profiling import ProfileReport\n",
    "import glob\n",
    "import os\n",
    "\n",
    "pd.options.display.max_columns = None\n",
    "\n",
    "# Pour vérifier le respect de la convention PEP8\n",
    "# Installation conda non diponible. Utiliser pip\n",
    "%load_ext pycodestyle_magic\n",
    "%pycodestyle_on"
   ]
  },
  {
   "cell_type": "code",
   "execution_count": 22,
   "metadata": {
    "tags": []
   },
   "outputs": [
    {
     "output_type": "stream",
     "name": "stdout",
     "text": "df_customers\ndf_geolocation\ndf_orders\ndf_order_items\ndf_order_payments\ndf_order_reviews\ndf_products\ndf_sellers\ndf_product_category_name_translation\n"
    }
   ],
   "source": [
    "df_dict = {}\n",
    "for file in glob.glob('src/olist/*csv'):\n",
    "    df_name = file.replace('src/olist\\\\', 'df_').replace('olist_', '')\n",
    "    df_name = df_name.replace('_dataset.csv', '').replace('.csv', '')\n",
    "    print(df_name)\n",
    "    df_dict[df_name] = pd.read_csv(file)"
   ]
  },
  {
   "cell_type": "code",
   "execution_count": 17,
   "metadata": {
    "tags": []
   },
   "outputs": [
    {
     "output_type": "display_data",
     "data": {
      "text/plain": "'src/olist\\\\customers'"
     },
     "metadata": {}
    },
    {
     "output_type": "stream",
     "name": "stdout",
     "text": "<class 'pandas.core.frame.DataFrame'>\nRangeIndex: 99441 entries, 0 to 99440\nData columns (total 5 columns):\n #   Column                    Non-Null Count  Dtype \n---  ------                    --------------  ----- \n 0   customer_id               99441 non-null  object\n 1   customer_unique_id        99441 non-null  object\n 2   customer_zip_code_prefix  99441 non-null  int64 \n 3   customer_city             99441 non-null  object\n 4   customer_state            99441 non-null  object\ndtypes: int64(1), object(4)\nmemory usage: 3.8+ MB\n"
    },
    {
     "output_type": "display_data",
     "data": {
      "text/plain": "None"
     },
     "metadata": {}
    },
    {
     "output_type": "display_data",
     "data": {
      "text/plain": "                        customer_id                customer_unique_id  \\\n0  06b8999e2fba1a1fbc88172c00ba8bc7  861eff4711a542e4b93843c6dd7febb0   \n1  18955e83d337fd6b2def6b18a428ac77  290c77bc529b7ac935b93aa66c333dc3   \n2  4e7b3e00288586ebd08712fdd0374a03  060e732b5b29e8181a18229c7b0b2b5e   \n3  b2b6027bc5c5109e529d4dc6358b12c3  259dac757896d24d7702b9acbbff3f3c   \n4  4f2d8ab171c80ec8364f7c12e35b23ad  345ecd01c38d18a9036ed96c73b8d066   \n\n   customer_zip_code_prefix          customer_city customer_state  \n0                     14409                 franca             SP  \n1                      9790  sao bernardo do campo             SP  \n2                      1151              sao paulo             SP  \n3                      8775        mogi das cruzes             SP  \n4                     13056               campinas             SP  ",
      "text/html": "<div>\n<style scoped>\n    .dataframe tbody tr th:only-of-type {\n        vertical-align: middle;\n    }\n\n    .dataframe tbody tr th {\n        vertical-align: top;\n    }\n\n    .dataframe thead th {\n        text-align: right;\n    }\n</style>\n<table border=\"1\" class=\"dataframe\">\n  <thead>\n    <tr style=\"text-align: right;\">\n      <th></th>\n      <th>customer_id</th>\n      <th>customer_unique_id</th>\n      <th>customer_zip_code_prefix</th>\n      <th>customer_city</th>\n      <th>customer_state</th>\n    </tr>\n  </thead>\n  <tbody>\n    <tr>\n      <th>0</th>\n      <td>06b8999e2fba1a1fbc88172c00ba8bc7</td>\n      <td>861eff4711a542e4b93843c6dd7febb0</td>\n      <td>14409</td>\n      <td>franca</td>\n      <td>SP</td>\n    </tr>\n    <tr>\n      <th>1</th>\n      <td>18955e83d337fd6b2def6b18a428ac77</td>\n      <td>290c77bc529b7ac935b93aa66c333dc3</td>\n      <td>9790</td>\n      <td>sao bernardo do campo</td>\n      <td>SP</td>\n    </tr>\n    <tr>\n      <th>2</th>\n      <td>4e7b3e00288586ebd08712fdd0374a03</td>\n      <td>060e732b5b29e8181a18229c7b0b2b5e</td>\n      <td>1151</td>\n      <td>sao paulo</td>\n      <td>SP</td>\n    </tr>\n    <tr>\n      <th>3</th>\n      <td>b2b6027bc5c5109e529d4dc6358b12c3</td>\n      <td>259dac757896d24d7702b9acbbff3f3c</td>\n      <td>8775</td>\n      <td>mogi das cruzes</td>\n      <td>SP</td>\n    </tr>\n    <tr>\n      <th>4</th>\n      <td>4f2d8ab171c80ec8364f7c12e35b23ad</td>\n      <td>345ecd01c38d18a9036ed96c73b8d066</td>\n      <td>13056</td>\n      <td>campinas</td>\n      <td>SP</td>\n    </tr>\n  </tbody>\n</table>\n</div>"
     },
     "metadata": {}
    },
    {
     "output_type": "display_data",
     "data": {
      "text/plain": "'src/olist\\\\geolocation'"
     },
     "metadata": {}
    },
    {
     "output_type": "stream",
     "name": "stdout",
     "text": "<class 'pandas.core.frame.DataFrame'>\nRangeIndex: 1000163 entries, 0 to 1000162\nData columns (total 5 columns):\n #   Column                       Non-Null Count    Dtype  \n---  ------                       --------------    -----  \n 0   geolocation_zip_code_prefix  1000163 non-null  int64  \n 1   geolocation_lat              1000163 non-null  float64\n 2   geolocation_lng              1000163 non-null  float64\n 3   geolocation_city             1000163 non-null  object \n 4   geolocation_state            1000163 non-null  object \ndtypes: float64(2), int64(1), object(2)\nmemory usage: 38.2+ MB\n"
    },
    {
     "output_type": "display_data",
     "data": {
      "text/plain": "None"
     },
     "metadata": {}
    },
    {
     "output_type": "display_data",
     "data": {
      "text/plain": "   geolocation_zip_code_prefix  geolocation_lat  geolocation_lng  \\\n0                         1037       -23.545621       -46.639292   \n1                         1046       -23.546081       -46.644820   \n2                         1046       -23.546129       -46.642951   \n3                         1041       -23.544392       -46.639499   \n4                         1035       -23.541578       -46.641607   \n\n  geolocation_city geolocation_state  \n0        sao paulo                SP  \n1        sao paulo                SP  \n2        sao paulo                SP  \n3        sao paulo                SP  \n4        sao paulo                SP  ",
      "text/html": "<div>\n<style scoped>\n    .dataframe tbody tr th:only-of-type {\n        vertical-align: middle;\n    }\n\n    .dataframe tbody tr th {\n        vertical-align: top;\n    }\n\n    .dataframe thead th {\n        text-align: right;\n    }\n</style>\n<table border=\"1\" class=\"dataframe\">\n  <thead>\n    <tr style=\"text-align: right;\">\n      <th></th>\n      <th>geolocation_zip_code_prefix</th>\n      <th>geolocation_lat</th>\n      <th>geolocation_lng</th>\n      <th>geolocation_city</th>\n      <th>geolocation_state</th>\n    </tr>\n  </thead>\n  <tbody>\n    <tr>\n      <th>0</th>\n      <td>1037</td>\n      <td>-23.545621</td>\n      <td>-46.639292</td>\n      <td>sao paulo</td>\n      <td>SP</td>\n    </tr>\n    <tr>\n      <th>1</th>\n      <td>1046</td>\n      <td>-23.546081</td>\n      <td>-46.644820</td>\n      <td>sao paulo</td>\n      <td>SP</td>\n    </tr>\n    <tr>\n      <th>2</th>\n      <td>1046</td>\n      <td>-23.546129</td>\n      <td>-46.642951</td>\n      <td>sao paulo</td>\n      <td>SP</td>\n    </tr>\n    <tr>\n      <th>3</th>\n      <td>1041</td>\n      <td>-23.544392</td>\n      <td>-46.639499</td>\n      <td>sao paulo</td>\n      <td>SP</td>\n    </tr>\n    <tr>\n      <th>4</th>\n      <td>1035</td>\n      <td>-23.541578</td>\n      <td>-46.641607</td>\n      <td>sao paulo</td>\n      <td>SP</td>\n    </tr>\n  </tbody>\n</table>\n</div>"
     },
     "metadata": {}
    },
    {
     "output_type": "display_data",
     "data": {
      "text/plain": "'src/olist\\\\orders'"
     },
     "metadata": {}
    },
    {
     "output_type": "stream",
     "name": "stdout",
     "text": "<class 'pandas.core.frame.DataFrame'>\nRangeIndex: 99441 entries, 0 to 99440\nData columns (total 8 columns):\n #   Column                         Non-Null Count  Dtype \n---  ------                         --------------  ----- \n 0   order_id                       99441 non-null  object\n 1   customer_id                    99441 non-null  object\n 2   order_status                   99441 non-null  object\n 3   order_purchase_timestamp       99441 non-null  object\n 4   order_approved_at              99281 non-null  object\n 5   order_delivered_carrier_date   97658 non-null  object\n 6   order_delivered_customer_date  96476 non-null  object\n 7   order_estimated_delivery_date  99441 non-null  object\ndtypes: object(8)\nmemory usage: 6.1+ MB\n"
    },
    {
     "output_type": "display_data",
     "data": {
      "text/plain": "None"
     },
     "metadata": {}
    },
    {
     "output_type": "display_data",
     "data": {
      "text/plain": "                           order_id                       customer_id  \\\n0  e481f51cbdc54678b7cc49136f2d6af7  9ef432eb6251297304e76186b10a928d   \n1  53cdb2fc8bc7dce0b6741e2150273451  b0830fb4747a6c6d20dea0b8c802d7ef   \n2  47770eb9100c2d0c44946d9cf07ec65d  41ce2a54c0b03bf3443c3d931a367089   \n3  949d5b44dbf5de918fe9c16f97b45f8a  f88197465ea7920adcdbec7375364d82   \n4  ad21c59c0840e6cb83a9ceb5573f8159  8ab97904e6daea8866dbdbc4fb7aad2c   \n\n  order_status order_purchase_timestamp    order_approved_at  \\\n0    delivered      2017-10-02 10:56:33  2017-10-02 11:07:15   \n1    delivered      2018-07-24 20:41:37  2018-07-26 03:24:27   \n2    delivered      2018-08-08 08:38:49  2018-08-08 08:55:23   \n3    delivered      2017-11-18 19:28:06  2017-11-18 19:45:59   \n4    delivered      2018-02-13 21:18:39  2018-02-13 22:20:29   \n\n  order_delivered_carrier_date order_delivered_customer_date  \\\n0          2017-10-04 19:55:00           2017-10-10 21:25:13   \n1          2018-07-26 14:31:00           2018-08-07 15:27:45   \n2          2018-08-08 13:50:00           2018-08-17 18:06:29   \n3          2017-11-22 13:39:59           2017-12-02 00:28:42   \n4          2018-02-14 19:46:34           2018-02-16 18:17:02   \n\n  order_estimated_delivery_date  \n0           2017-10-18 00:00:00  \n1           2018-08-13 00:00:00  \n2           2018-09-04 00:00:00  \n3           2017-12-15 00:00:00  \n4           2018-02-26 00:00:00  ",
      "text/html": "<div>\n<style scoped>\n    .dataframe tbody tr th:only-of-type {\n        vertical-align: middle;\n    }\n\n    .dataframe tbody tr th {\n        vertical-align: top;\n    }\n\n    .dataframe thead th {\n        text-align: right;\n    }\n</style>\n<table border=\"1\" class=\"dataframe\">\n  <thead>\n    <tr style=\"text-align: right;\">\n      <th></th>\n      <th>order_id</th>\n      <th>customer_id</th>\n      <th>order_status</th>\n      <th>order_purchase_timestamp</th>\n      <th>order_approved_at</th>\n      <th>order_delivered_carrier_date</th>\n      <th>order_delivered_customer_date</th>\n      <th>order_estimated_delivery_date</th>\n    </tr>\n  </thead>\n  <tbody>\n    <tr>\n      <th>0</th>\n      <td>e481f51cbdc54678b7cc49136f2d6af7</td>\n      <td>9ef432eb6251297304e76186b10a928d</td>\n      <td>delivered</td>\n      <td>2017-10-02 10:56:33</td>\n      <td>2017-10-02 11:07:15</td>\n      <td>2017-10-04 19:55:00</td>\n      <td>2017-10-10 21:25:13</td>\n      <td>2017-10-18 00:00:00</td>\n    </tr>\n    <tr>\n      <th>1</th>\n      <td>53cdb2fc8bc7dce0b6741e2150273451</td>\n      <td>b0830fb4747a6c6d20dea0b8c802d7ef</td>\n      <td>delivered</td>\n      <td>2018-07-24 20:41:37</td>\n      <td>2018-07-26 03:24:27</td>\n      <td>2018-07-26 14:31:00</td>\n      <td>2018-08-07 15:27:45</td>\n      <td>2018-08-13 00:00:00</td>\n    </tr>\n    <tr>\n      <th>2</th>\n      <td>47770eb9100c2d0c44946d9cf07ec65d</td>\n      <td>41ce2a54c0b03bf3443c3d931a367089</td>\n      <td>delivered</td>\n      <td>2018-08-08 08:38:49</td>\n      <td>2018-08-08 08:55:23</td>\n      <td>2018-08-08 13:50:00</td>\n      <td>2018-08-17 18:06:29</td>\n      <td>2018-09-04 00:00:00</td>\n    </tr>\n    <tr>\n      <th>3</th>\n      <td>949d5b44dbf5de918fe9c16f97b45f8a</td>\n      <td>f88197465ea7920adcdbec7375364d82</td>\n      <td>delivered</td>\n      <td>2017-11-18 19:28:06</td>\n      <td>2017-11-18 19:45:59</td>\n      <td>2017-11-22 13:39:59</td>\n      <td>2017-12-02 00:28:42</td>\n      <td>2017-12-15 00:00:00</td>\n    </tr>\n    <tr>\n      <th>4</th>\n      <td>ad21c59c0840e6cb83a9ceb5573f8159</td>\n      <td>8ab97904e6daea8866dbdbc4fb7aad2c</td>\n      <td>delivered</td>\n      <td>2018-02-13 21:18:39</td>\n      <td>2018-02-13 22:20:29</td>\n      <td>2018-02-14 19:46:34</td>\n      <td>2018-02-16 18:17:02</td>\n      <td>2018-02-26 00:00:00</td>\n    </tr>\n  </tbody>\n</table>\n</div>"
     },
     "metadata": {}
    },
    {
     "output_type": "display_data",
     "data": {
      "text/plain": "'src/olist\\\\order_items'"
     },
     "metadata": {}
    },
    {
     "output_type": "stream",
     "name": "stdout",
     "text": "<class 'pandas.core.frame.DataFrame'>\nRangeIndex: 112650 entries, 0 to 112649\nData columns (total 7 columns):\n #   Column               Non-Null Count   Dtype  \n---  ------               --------------   -----  \n 0   order_id             112650 non-null  object \n 1   order_item_id        112650 non-null  int64  \n 2   product_id           112650 non-null  object \n 3   seller_id            112650 non-null  object \n 4   shipping_limit_date  112650 non-null  object \n 5   price                112650 non-null  float64\n 6   freight_value        112650 non-null  float64\ndtypes: float64(2), int64(1), object(4)\nmemory usage: 6.0+ MB\n"
    },
    {
     "output_type": "display_data",
     "data": {
      "text/plain": "None"
     },
     "metadata": {}
    },
    {
     "output_type": "display_data",
     "data": {
      "text/plain": "                           order_id  order_item_id  \\\n0  00010242fe8c5a6d1ba2dd792cb16214              1   \n1  00018f77f2f0320c557190d7a144bdd3              1   \n2  000229ec398224ef6ca0657da4fc703e              1   \n3  00024acbcdf0a6daa1e931b038114c75              1   \n4  00042b26cf59d7ce69dfabb4e55b4fd9              1   \n\n                         product_id                         seller_id  \\\n0  4244733e06e7ecb4970a6e2683c13e61  48436dade18ac8b2bce089ec2a041202   \n1  e5f2d52b802189ee658865ca93d83a8f  dd7ddc04e1b6c2c614352b383efe2d36   \n2  c777355d18b72b67abbeef9df44fd0fd  5b51032eddd242adc84c38acab88f23d   \n3  7634da152a4610f1595efa32f14722fc  9d7a1d34a5052409006425275ba1c2b4   \n4  ac6c3623068f30de03045865e4e10089  df560393f3a51e74553ab94004ba5c87   \n\n   shipping_limit_date   price  freight_value  \n0  2017-09-19 09:45:35   58.90          13.29  \n1  2017-05-03 11:05:13  239.90          19.93  \n2  2018-01-18 14:48:30  199.00          17.87  \n3  2018-08-15 10:10:18   12.99          12.79  \n4  2017-02-13 13:57:51  199.90          18.14  ",
      "text/html": "<div>\n<style scoped>\n    .dataframe tbody tr th:only-of-type {\n        vertical-align: middle;\n    }\n\n    .dataframe tbody tr th {\n        vertical-align: top;\n    }\n\n    .dataframe thead th {\n        text-align: right;\n    }\n</style>\n<table border=\"1\" class=\"dataframe\">\n  <thead>\n    <tr style=\"text-align: right;\">\n      <th></th>\n      <th>order_id</th>\n      <th>order_item_id</th>\n      <th>product_id</th>\n      <th>seller_id</th>\n      <th>shipping_limit_date</th>\n      <th>price</th>\n      <th>freight_value</th>\n    </tr>\n  </thead>\n  <tbody>\n    <tr>\n      <th>0</th>\n      <td>00010242fe8c5a6d1ba2dd792cb16214</td>\n      <td>1</td>\n      <td>4244733e06e7ecb4970a6e2683c13e61</td>\n      <td>48436dade18ac8b2bce089ec2a041202</td>\n      <td>2017-09-19 09:45:35</td>\n      <td>58.90</td>\n      <td>13.29</td>\n    </tr>\n    <tr>\n      <th>1</th>\n      <td>00018f77f2f0320c557190d7a144bdd3</td>\n      <td>1</td>\n      <td>e5f2d52b802189ee658865ca93d83a8f</td>\n      <td>dd7ddc04e1b6c2c614352b383efe2d36</td>\n      <td>2017-05-03 11:05:13</td>\n      <td>239.90</td>\n      <td>19.93</td>\n    </tr>\n    <tr>\n      <th>2</th>\n      <td>000229ec398224ef6ca0657da4fc703e</td>\n      <td>1</td>\n      <td>c777355d18b72b67abbeef9df44fd0fd</td>\n      <td>5b51032eddd242adc84c38acab88f23d</td>\n      <td>2018-01-18 14:48:30</td>\n      <td>199.00</td>\n      <td>17.87</td>\n    </tr>\n    <tr>\n      <th>3</th>\n      <td>00024acbcdf0a6daa1e931b038114c75</td>\n      <td>1</td>\n      <td>7634da152a4610f1595efa32f14722fc</td>\n      <td>9d7a1d34a5052409006425275ba1c2b4</td>\n      <td>2018-08-15 10:10:18</td>\n      <td>12.99</td>\n      <td>12.79</td>\n    </tr>\n    <tr>\n      <th>4</th>\n      <td>00042b26cf59d7ce69dfabb4e55b4fd9</td>\n      <td>1</td>\n      <td>ac6c3623068f30de03045865e4e10089</td>\n      <td>df560393f3a51e74553ab94004ba5c87</td>\n      <td>2017-02-13 13:57:51</td>\n      <td>199.90</td>\n      <td>18.14</td>\n    </tr>\n  </tbody>\n</table>\n</div>"
     },
     "metadata": {}
    },
    {
     "output_type": "display_data",
     "data": {
      "text/plain": "'src/olist\\\\order_payments'"
     },
     "metadata": {}
    },
    {
     "output_type": "stream",
     "name": "stdout",
     "text": "<class 'pandas.core.frame.DataFrame'>\nRangeIndex: 103886 entries, 0 to 103885\nData columns (total 5 columns):\n #   Column                Non-Null Count   Dtype  \n---  ------                --------------   -----  \n 0   order_id              103886 non-null  object \n 1   payment_sequential    103886 non-null  int64  \n 2   payment_type          103886 non-null  object \n 3   payment_installments  103886 non-null  int64  \n 4   payment_value         103886 non-null  float64\ndtypes: float64(1), int64(2), object(2)\nmemory usage: 4.0+ MB\n"
    },
    {
     "output_type": "display_data",
     "data": {
      "text/plain": "None"
     },
     "metadata": {}
    },
    {
     "output_type": "display_data",
     "data": {
      "text/plain": "                           order_id  payment_sequential payment_type  \\\n0  b81ef226f3fe1789b1e8b2acac839d17                   1  credit_card   \n1  a9810da82917af2d9aefd1278f1dcfa0                   1  credit_card   \n2  25e8ea4e93396b6fa0d3dd708e76c1bd                   1  credit_card   \n3  ba78997921bbcdc1373bb41e913ab953                   1  credit_card   \n4  42fdf880ba16b47b59251dd489d4441a                   1  credit_card   \n\n   payment_installments  payment_value  \n0                     8          99.33  \n1                     1          24.39  \n2                     1          65.71  \n3                     8         107.78  \n4                     2         128.45  ",
      "text/html": "<div>\n<style scoped>\n    .dataframe tbody tr th:only-of-type {\n        vertical-align: middle;\n    }\n\n    .dataframe tbody tr th {\n        vertical-align: top;\n    }\n\n    .dataframe thead th {\n        text-align: right;\n    }\n</style>\n<table border=\"1\" class=\"dataframe\">\n  <thead>\n    <tr style=\"text-align: right;\">\n      <th></th>\n      <th>order_id</th>\n      <th>payment_sequential</th>\n      <th>payment_type</th>\n      <th>payment_installments</th>\n      <th>payment_value</th>\n    </tr>\n  </thead>\n  <tbody>\n    <tr>\n      <th>0</th>\n      <td>b81ef226f3fe1789b1e8b2acac839d17</td>\n      <td>1</td>\n      <td>credit_card</td>\n      <td>8</td>\n      <td>99.33</td>\n    </tr>\n    <tr>\n      <th>1</th>\n      <td>a9810da82917af2d9aefd1278f1dcfa0</td>\n      <td>1</td>\n      <td>credit_card</td>\n      <td>1</td>\n      <td>24.39</td>\n    </tr>\n    <tr>\n      <th>2</th>\n      <td>25e8ea4e93396b6fa0d3dd708e76c1bd</td>\n      <td>1</td>\n      <td>credit_card</td>\n      <td>1</td>\n      <td>65.71</td>\n    </tr>\n    <tr>\n      <th>3</th>\n      <td>ba78997921bbcdc1373bb41e913ab953</td>\n      <td>1</td>\n      <td>credit_card</td>\n      <td>8</td>\n      <td>107.78</td>\n    </tr>\n    <tr>\n      <th>4</th>\n      <td>42fdf880ba16b47b59251dd489d4441a</td>\n      <td>1</td>\n      <td>credit_card</td>\n      <td>2</td>\n      <td>128.45</td>\n    </tr>\n  </tbody>\n</table>\n</div>"
     },
     "metadata": {}
    },
    {
     "output_type": "display_data",
     "data": {
      "text/plain": "'src/olist\\\\order_reviews'"
     },
     "metadata": {}
    },
    {
     "output_type": "stream",
     "name": "stdout",
     "text": "<class 'pandas.core.frame.DataFrame'>\nRangeIndex: 100000 entries, 0 to 99999\nData columns (total 7 columns):\n #   Column                   Non-Null Count   Dtype \n---  ------                   --------------   ----- \n 0   review_id                100000 non-null  object\n 1   order_id                 100000 non-null  object\n 2   review_score             100000 non-null  int64 \n 3   review_comment_title     11715 non-null   object\n 4   review_comment_message   41753 non-null   object\n 5   review_creation_date     100000 non-null  object\n 6   review_answer_timestamp  100000 non-null  object\ndtypes: int64(1), object(6)\nmemory usage: 5.3+ MB\n"
    },
    {
     "output_type": "display_data",
     "data": {
      "text/plain": "None"
     },
     "metadata": {}
    },
    {
     "output_type": "display_data",
     "data": {
      "text/plain": "                          review_id                          order_id  \\\n0  7bc2406110b926393aa56f80a40eba40  73fc7af87114b39712e6da79b0a377eb   \n1  80e641a11e56f04c1ad469d5645fdfde  a548910a1c6147796b98fdf73dbeba33   \n2  228ce5500dc1d8e020d8d1322874b6f0  f9e4b658b201a9f2ecdecbb34bed034b   \n3  e64fb393e7b32834bb789ff8bb30750e  658677c97b385a9be170737859d3511b   \n4  f7c4243c7fe1938f181bec41a392bdeb  8e6bfb81e283fa7e4f11123a3fb894f1   \n\n   review_score review_comment_title  \\\n0             4                  NaN   \n1             5                  NaN   \n2             5                  NaN   \n3             5                  NaN   \n4             5                  NaN   \n\n                              review_comment_message review_creation_date  \\\n0                                                NaN  2018-01-18 00:00:00   \n1                                                NaN  2018-03-10 00:00:00   \n2                                                NaN  2018-02-17 00:00:00   \n3              Recebi bem antes do prazo estipulado.  2017-04-21 00:00:00   \n4  Parabéns lojas lannister adorei comprar pela I...  2018-03-01 00:00:00   \n\n  review_answer_timestamp  \n0     2018-01-18 21:46:59  \n1     2018-03-11 03:05:13  \n2     2018-02-18 14:36:24  \n3     2017-04-21 22:02:06  \n4     2018-03-02 10:26:53  ",
      "text/html": "<div>\n<style scoped>\n    .dataframe tbody tr th:only-of-type {\n        vertical-align: middle;\n    }\n\n    .dataframe tbody tr th {\n        vertical-align: top;\n    }\n\n    .dataframe thead th {\n        text-align: right;\n    }\n</style>\n<table border=\"1\" class=\"dataframe\">\n  <thead>\n    <tr style=\"text-align: right;\">\n      <th></th>\n      <th>review_id</th>\n      <th>order_id</th>\n      <th>review_score</th>\n      <th>review_comment_title</th>\n      <th>review_comment_message</th>\n      <th>review_creation_date</th>\n      <th>review_answer_timestamp</th>\n    </tr>\n  </thead>\n  <tbody>\n    <tr>\n      <th>0</th>\n      <td>7bc2406110b926393aa56f80a40eba40</td>\n      <td>73fc7af87114b39712e6da79b0a377eb</td>\n      <td>4</td>\n      <td>NaN</td>\n      <td>NaN</td>\n      <td>2018-01-18 00:00:00</td>\n      <td>2018-01-18 21:46:59</td>\n    </tr>\n    <tr>\n      <th>1</th>\n      <td>80e641a11e56f04c1ad469d5645fdfde</td>\n      <td>a548910a1c6147796b98fdf73dbeba33</td>\n      <td>5</td>\n      <td>NaN</td>\n      <td>NaN</td>\n      <td>2018-03-10 00:00:00</td>\n      <td>2018-03-11 03:05:13</td>\n    </tr>\n    <tr>\n      <th>2</th>\n      <td>228ce5500dc1d8e020d8d1322874b6f0</td>\n      <td>f9e4b658b201a9f2ecdecbb34bed034b</td>\n      <td>5</td>\n      <td>NaN</td>\n      <td>NaN</td>\n      <td>2018-02-17 00:00:00</td>\n      <td>2018-02-18 14:36:24</td>\n    </tr>\n    <tr>\n      <th>3</th>\n      <td>e64fb393e7b32834bb789ff8bb30750e</td>\n      <td>658677c97b385a9be170737859d3511b</td>\n      <td>5</td>\n      <td>NaN</td>\n      <td>Recebi bem antes do prazo estipulado.</td>\n      <td>2017-04-21 00:00:00</td>\n      <td>2017-04-21 22:02:06</td>\n    </tr>\n    <tr>\n      <th>4</th>\n      <td>f7c4243c7fe1938f181bec41a392bdeb</td>\n      <td>8e6bfb81e283fa7e4f11123a3fb894f1</td>\n      <td>5</td>\n      <td>NaN</td>\n      <td>Parabéns lojas lannister adorei comprar pela I...</td>\n      <td>2018-03-01 00:00:00</td>\n      <td>2018-03-02 10:26:53</td>\n    </tr>\n  </tbody>\n</table>\n</div>"
     },
     "metadata": {}
    },
    {
     "output_type": "display_data",
     "data": {
      "text/plain": "'src/olist\\\\products'"
     },
     "metadata": {}
    },
    {
     "output_type": "stream",
     "name": "stdout",
     "text": "<class 'pandas.core.frame.DataFrame'>\nRangeIndex: 32951 entries, 0 to 32950\nData columns (total 9 columns):\n #   Column                      Non-Null Count  Dtype  \n---  ------                      --------------  -----  \n 0   product_id                  32951 non-null  object \n 1   product_category_name       32341 non-null  object \n 2   product_name_lenght         32341 non-null  float64\n 3   product_description_lenght  32341 non-null  float64\n 4   product_photos_qty          32341 non-null  float64\n 5   product_weight_g            32949 non-null  float64\n 6   product_length_cm           32949 non-null  float64\n 7   product_height_cm           32949 non-null  float64\n 8   product_width_cm            32949 non-null  float64\ndtypes: float64(7), object(2)\nmemory usage: 2.3+ MB\n"
    },
    {
     "output_type": "display_data",
     "data": {
      "text/plain": "None"
     },
     "metadata": {}
    },
    {
     "output_type": "display_data",
     "data": {
      "text/plain": "                         product_id  product_category_name  \\\n0  1e9e8ef04dbcff4541ed26657ea517e5             perfumaria   \n1  3aa071139cb16b67ca9e5dea641aaa2f                  artes   \n2  96bd76ec8810374ed1b65e291975717f          esporte_lazer   \n3  cef67bcfe19066a932b7673e239eb23d                  bebes   \n4  9dc1a7de274444849c219cff195d0b71  utilidades_domesticas   \n\n   product_name_lenght  product_description_lenght  product_photos_qty  \\\n0                 40.0                       287.0                 1.0   \n1                 44.0                       276.0                 1.0   \n2                 46.0                       250.0                 1.0   \n3                 27.0                       261.0                 1.0   \n4                 37.0                       402.0                 4.0   \n\n   product_weight_g  product_length_cm  product_height_cm  product_width_cm  \n0             225.0               16.0               10.0              14.0  \n1            1000.0               30.0               18.0              20.0  \n2             154.0               18.0                9.0              15.0  \n3             371.0               26.0                4.0              26.0  \n4             625.0               20.0               17.0              13.0  ",
      "text/html": "<div>\n<style scoped>\n    .dataframe tbody tr th:only-of-type {\n        vertical-align: middle;\n    }\n\n    .dataframe tbody tr th {\n        vertical-align: top;\n    }\n\n    .dataframe thead th {\n        text-align: right;\n    }\n</style>\n<table border=\"1\" class=\"dataframe\">\n  <thead>\n    <tr style=\"text-align: right;\">\n      <th></th>\n      <th>product_id</th>\n      <th>product_category_name</th>\n      <th>product_name_lenght</th>\n      <th>product_description_lenght</th>\n      <th>product_photos_qty</th>\n      <th>product_weight_g</th>\n      <th>product_length_cm</th>\n      <th>product_height_cm</th>\n      <th>product_width_cm</th>\n    </tr>\n  </thead>\n  <tbody>\n    <tr>\n      <th>0</th>\n      <td>1e9e8ef04dbcff4541ed26657ea517e5</td>\n      <td>perfumaria</td>\n      <td>40.0</td>\n      <td>287.0</td>\n      <td>1.0</td>\n      <td>225.0</td>\n      <td>16.0</td>\n      <td>10.0</td>\n      <td>14.0</td>\n    </tr>\n    <tr>\n      <th>1</th>\n      <td>3aa071139cb16b67ca9e5dea641aaa2f</td>\n      <td>artes</td>\n      <td>44.0</td>\n      <td>276.0</td>\n      <td>1.0</td>\n      <td>1000.0</td>\n      <td>30.0</td>\n      <td>18.0</td>\n      <td>20.0</td>\n    </tr>\n    <tr>\n      <th>2</th>\n      <td>96bd76ec8810374ed1b65e291975717f</td>\n      <td>esporte_lazer</td>\n      <td>46.0</td>\n      <td>250.0</td>\n      <td>1.0</td>\n      <td>154.0</td>\n      <td>18.0</td>\n      <td>9.0</td>\n      <td>15.0</td>\n    </tr>\n    <tr>\n      <th>3</th>\n      <td>cef67bcfe19066a932b7673e239eb23d</td>\n      <td>bebes</td>\n      <td>27.0</td>\n      <td>261.0</td>\n      <td>1.0</td>\n      <td>371.0</td>\n      <td>26.0</td>\n      <td>4.0</td>\n      <td>26.0</td>\n    </tr>\n    <tr>\n      <th>4</th>\n      <td>9dc1a7de274444849c219cff195d0b71</td>\n      <td>utilidades_domesticas</td>\n      <td>37.0</td>\n      <td>402.0</td>\n      <td>4.0</td>\n      <td>625.0</td>\n      <td>20.0</td>\n      <td>17.0</td>\n      <td>13.0</td>\n    </tr>\n  </tbody>\n</table>\n</div>"
     },
     "metadata": {}
    },
    {
     "output_type": "display_data",
     "data": {
      "text/plain": "'src/olist\\\\sellers'"
     },
     "metadata": {}
    },
    {
     "output_type": "stream",
     "name": "stdout",
     "text": "<class 'pandas.core.frame.DataFrame'>\nRangeIndex: 3095 entries, 0 to 3094\nData columns (total 4 columns):\n #   Column                  Non-Null Count  Dtype \n---  ------                  --------------  ----- \n 0   seller_id               3095 non-null   object\n 1   seller_zip_code_prefix  3095 non-null   int64 \n 2   seller_city             3095 non-null   object\n 3   seller_state            3095 non-null   object\ndtypes: int64(1), object(3)\nmemory usage: 96.8+ KB\n"
    },
    {
     "output_type": "display_data",
     "data": {
      "text/plain": "None"
     },
     "metadata": {}
    },
    {
     "output_type": "display_data",
     "data": {
      "text/plain": "                          seller_id  seller_zip_code_prefix  \\\n0  3442f8959a84dea7ee197c632cb2df15                   13023   \n1  d1b65fc7debc3361ea86b5f14c68d2e2                   13844   \n2  ce3ad9de960102d0677a81f5d0bb7b2d                   20031   \n3  c0f3eea2e14555b6faeea3dd58c1b1c3                    4195   \n4  51a04a8a6bdcb23deccc82b0b80742cf                   12914   \n\n         seller_city seller_state  \n0           campinas           SP  \n1         mogi guacu           SP  \n2     rio de janeiro           RJ  \n3          sao paulo           SP  \n4  braganca paulista           SP  ",
      "text/html": "<div>\n<style scoped>\n    .dataframe tbody tr th:only-of-type {\n        vertical-align: middle;\n    }\n\n    .dataframe tbody tr th {\n        vertical-align: top;\n    }\n\n    .dataframe thead th {\n        text-align: right;\n    }\n</style>\n<table border=\"1\" class=\"dataframe\">\n  <thead>\n    <tr style=\"text-align: right;\">\n      <th></th>\n      <th>seller_id</th>\n      <th>seller_zip_code_prefix</th>\n      <th>seller_city</th>\n      <th>seller_state</th>\n    </tr>\n  </thead>\n  <tbody>\n    <tr>\n      <th>0</th>\n      <td>3442f8959a84dea7ee197c632cb2df15</td>\n      <td>13023</td>\n      <td>campinas</td>\n      <td>SP</td>\n    </tr>\n    <tr>\n      <th>1</th>\n      <td>d1b65fc7debc3361ea86b5f14c68d2e2</td>\n      <td>13844</td>\n      <td>mogi guacu</td>\n      <td>SP</td>\n    </tr>\n    <tr>\n      <th>2</th>\n      <td>ce3ad9de960102d0677a81f5d0bb7b2d</td>\n      <td>20031</td>\n      <td>rio de janeiro</td>\n      <td>RJ</td>\n    </tr>\n    <tr>\n      <th>3</th>\n      <td>c0f3eea2e14555b6faeea3dd58c1b1c3</td>\n      <td>4195</td>\n      <td>sao paulo</td>\n      <td>SP</td>\n    </tr>\n    <tr>\n      <th>4</th>\n      <td>51a04a8a6bdcb23deccc82b0b80742cf</td>\n      <td>12914</td>\n      <td>braganca paulista</td>\n      <td>SP</td>\n    </tr>\n  </tbody>\n</table>\n</div>"
     },
     "metadata": {}
    },
    {
     "output_type": "display_data",
     "data": {
      "text/plain": "'src/olist\\\\product_category_name_translation'"
     },
     "metadata": {}
    },
    {
     "output_type": "stream",
     "name": "stdout",
     "text": "<class 'pandas.core.frame.DataFrame'>\nRangeIndex: 71 entries, 0 to 70\nData columns (total 2 columns):\n #   Column                         Non-Null Count  Dtype \n---  ------                         --------------  ----- \n 0   product_category_name          71 non-null     object\n 1   product_category_name_english  71 non-null     object\ndtypes: object(2)\nmemory usage: 1.2+ KB\n"
    },
    {
     "output_type": "display_data",
     "data": {
      "text/plain": "None"
     },
     "metadata": {}
    },
    {
     "output_type": "display_data",
     "data": {
      "text/plain": "    product_category_name product_category_name_english\n0            beleza_saude                 health_beauty\n1  informatica_acessorios         computers_accessories\n2              automotivo                          auto\n3         cama_mesa_banho                bed_bath_table\n4        moveis_decoracao               furniture_decor",
      "text/html": "<div>\n<style scoped>\n    .dataframe tbody tr th:only-of-type {\n        vertical-align: middle;\n    }\n\n    .dataframe tbody tr th {\n        vertical-align: top;\n    }\n\n    .dataframe thead th {\n        text-align: right;\n    }\n</style>\n<table border=\"1\" class=\"dataframe\">\n  <thead>\n    <tr style=\"text-align: right;\">\n      <th></th>\n      <th>product_category_name</th>\n      <th>product_category_name_english</th>\n    </tr>\n  </thead>\n  <tbody>\n    <tr>\n      <th>0</th>\n      <td>beleza_saude</td>\n      <td>health_beauty</td>\n    </tr>\n    <tr>\n      <th>1</th>\n      <td>informatica_acessorios</td>\n      <td>computers_accessories</td>\n    </tr>\n    <tr>\n      <th>2</th>\n      <td>automotivo</td>\n      <td>auto</td>\n    </tr>\n    <tr>\n      <th>3</th>\n      <td>cama_mesa_banho</td>\n      <td>bed_bath_table</td>\n    </tr>\n    <tr>\n      <th>4</th>\n      <td>moveis_decoracao</td>\n      <td>furniture_decor</td>\n    </tr>\n  </tbody>\n</table>\n</div>"
     },
     "metadata": {}
    }
   ],
   "source": [
    "for name, df in df_dict.items():\n",
    "    display(name)\n",
    "    display(df.info())\n",
    "    display(df.head())"
   ]
  },
  {
   "cell_type": "markdown",
   "metadata": {},
   "source": [
    "<img src=\"src/relation.png\"/>"
   ]
  },
  {
   "cell_type": "code",
   "execution_count": 23,
   "metadata": {
    "tags": []
   },
   "outputs": [
    {
     "output_type": "execute_result",
     "data": {
      "text/plain": "(116581, 37)"
     },
     "metadata": {},
     "execution_count": 23
    }
   ],
   "source": [
    "merge_list = [df_dict['df_orders'],\n",
    "              df_dict['df_order_items'],\n",
    "              df_dict['df_order_reviews'],\n",
    "              df_dict['df_order_payments'],\n",
    "              df_dict['df_products'],\n",
    "              df_dict['df_product_category_name_translation']]\n",
    "\n",
    "df_raw = df_dict['df_customers']\n",
    "for df in merge_list:\n",
    "    df_raw = pd.merge(df_raw, df)\n",
    "\n",
    "df_raw.shape"
   ]
  },
  {
   "cell_type": "code",
   "execution_count": 24,
   "metadata": {},
   "outputs": [],
   "source": [
    "df_raw.dtypes.to_csv('src/columns.csv')"
   ]
  },
  {
   "cell_type": "code",
   "execution_count": 10,
   "metadata": {
    "tags": []
   },
   "outputs": [
    {
     "output_type": "stream",
     "name": "stdout",
     "text": "<class 'pandas.core.frame.DataFrame'>\nInt64Index: 116581 entries, 0 to 116580\nData columns (total 37 columns):\n #   Column                         Non-Null Count   Dtype  \n---  ------                         --------------   -----  \n 0   customer_id                    116581 non-null  object \n 1   customer_unique_id             116581 non-null  object \n 2   customer_zip_code_prefix       116581 non-null  int64  \n 3   customer_city                  116581 non-null  object \n 4   customer_state                 116581 non-null  object \n 5   order_id                       116581 non-null  object \n 6   order_status                   116581 non-null  object \n 7   order_purchase_timestamp       116581 non-null  object \n 8   order_approved_at              116567 non-null  object \n 9   order_delivered_carrier_date   115368 non-null  object \n 10  order_delivered_customer_date  114066 non-null  object \n 11  order_estimated_delivery_date  116581 non-null  object \n 12  order_item_id                  116581 non-null  int64  \n 13  product_id                     116581 non-null  object \n 14  seller_id                      116581 non-null  object \n 15  shipping_limit_date            116581 non-null  object \n 16  price                          116581 non-null  float64\n 17  freight_value                  116581 non-null  float64\n 18  review_id                      116581 non-null  object \n 19  review_score                   116581 non-null  int64  \n 20  review_comment_title           13996 non-null   object \n 21  review_comment_message         49878 non-null   object \n 22  review_creation_date           116581 non-null  object \n 23  review_answer_timestamp        116581 non-null  object \n 24  payment_sequential             116581 non-null  int64  \n 25  payment_type                   116581 non-null  object \n 26  payment_installments           116581 non-null  int64  \n 27  payment_value                  116581 non-null  float64\n 28  product_category_name          116581 non-null  object \n 29  product_name_lenght            116581 non-null  float64\n 30  product_description_lenght     116581 non-null  float64\n 31  product_photos_qty             116581 non-null  float64\n 32  product_weight_g               116580 non-null  float64\n 33  product_length_cm              116580 non-null  float64\n 34  product_height_cm              116580 non-null  float64\n 35  product_width_cm               116580 non-null  float64\n 36  product_category_name_english  116581 non-null  object \ndtypes: float64(10), int64(5), object(22)\nmemory usage: 33.8+ MB\n"
    }
   ],
   "source": [
    "df_raw.info()"
   ]
  },
  {
   "cell_type": "code",
   "execution_count": 27,
   "metadata": {},
   "outputs": [
    {
     "output_type": "execute_result",
     "data": {
      "text/plain": "                             customer_id                customer_unique_id  \\\n0       06b8999e2fba1a1fbc88172c00ba8bc7  861eff4711a542e4b93843c6dd7febb0   \n1       8912fc0c3bbf1e2fbf35819e21706718  9eae34bbd3a474ec5d07949ca7de67c0   \n2       8912fc0c3bbf1e2fbf35819e21706718  9eae34bbd3a474ec5d07949ca7de67c0   \n3       f0ac8e5a239118859b1734e1087cbb1f  3c799d181c34d51f6d44bbbc563024db   \n4       6bc8d08963a135220ed6c6d098831f84  23397e992b09769faf5e66f9e171a241   \n...                                  ...                               ...   \n116576  8325d6e7af2f2bfb58cf040729b232dd  a1d53377ab83871b0ad483b03ac69d6c   \n116577  85485f38b20ed1e287120d30cf39ee7d  f979a07fc18b2af3780a796ba14b96f4   \n116578  14acb30bbc064408dcb8cdd3c92b0c97  1b553902a5bbe6ee54a3aaa7cbfb6816   \n116579  363d3a9b2ec5c5426608688ca033292d  d8bee9ec375c3a0f9ef8ed7456a51dcd   \n116580  919570a26efbd068d6a0f66d5c5072a3  141e824b8e0df709e3fcf6d982225a8e   \n\n        customer_zip_code_prefix    customer_city customer_state  \\\n0                          14409           franca             SP   \n1                          68030         santarem             PA   \n2                          68030         santarem             PA   \n3                          92480  nova santa rita             RS   \n4                          25931             mage             RJ   \n...                          ...              ...            ...   \n116576                      3570        sao paulo             SP   \n116577                      4271        sao paulo             SP   \n116578                     26255      nova iguacu             RJ   \n116579                     76940   rolim de moura             RO   \n116580                     71940         brasilia             DF   \n\n                                order_id order_status  \\\n0       00e7ee1b050b8499577073aeb2a297a1    delivered   \n1       c1d2b34febe9cd269e378117d6681172    delivered   \n2       c1d2b34febe9cd269e378117d6681172    delivered   \n3       b1a5d5365d330d10485e0203d54ab9e8    delivered   \n4       2e604b3614664aa66867856dba7e61b7    delivered   \n...                                  ...          ...   \n116576  b99217b1fcf2fdeace7b8d869b76cb91    delivered   \n116577  9fa3a005f89a187501fa1bd63d6125fb    delivered   \n116578  ee86b68eb9222b0cad7da50f4f758a35    delivered   \n116579  2c4ada2e75c2ad41dd93cebb5df5f023    delivered   \n116580  bede3503afed051733eeb4a84d1adcc5    delivered   \n\n       order_purchase_timestamp    order_approved_at  \\\n0           2017-05-16 15:05:35  2017-05-16 15:22:12   \n1           2017-11-09 00:50:13  2017-11-10 00:47:48   \n2           2017-11-09 00:50:13  2017-11-10 00:47:48   \n3           2017-05-07 20:11:26  2017-05-08 22:22:56   \n4           2018-02-03 19:45:40  2018-02-04 22:29:19   \n...                         ...                  ...   \n116576      2018-03-07 17:42:06  2018-03-07 17:55:36   \n116577      2017-10-08 23:51:49  2017-10-09 00:17:50   \n116578      2017-05-17 17:44:34  2017-05-17 17:55:12   \n116579      2017-01-26 11:09:00  2017-01-26 11:22:17   \n116580      2017-09-17 16:51:43  2017-09-19 04:05:52   \n\n       order_delivered_carrier_date order_delivered_customer_date  \\\n0               2017-05-23 10:47:57           2017-05-25 10:35:35   \n1               2017-11-22 01:43:37           2017-11-28 00:09:50   \n2               2017-11-22 01:43:37           2017-11-28 00:09:50   \n3               2017-05-19 20:16:31           2017-05-26 09:54:04   \n4               2018-02-19 18:21:47           2018-02-28 21:09:00   \n...                             ...                           ...   \n116576          2018-03-08 20:09:40           2018-03-15 22:04:49   \n116577          2017-10-10 20:52:05           2017-10-16 21:59:33   \n116578          2017-05-18 16:28:06           2017-05-20 08:44:01   \n116579          2017-01-27 14:59:35           2017-02-14 16:24:01   \n116580          2017-09-19 20:22:49           2017-09-28 18:14:35   \n\n       order_estimated_delivery_date  order_item_id  \\\n0                2017-06-05 00:00:00              1   \n1                2017-12-19 00:00:00              1   \n2                2017-12-19 00:00:00              2   \n3                2017-06-12 00:00:00              1   \n4                2018-03-22 00:00:00              1   \n...                              ...            ...   \n116576           2018-04-02 00:00:00              1   \n116577           2017-11-08 00:00:00              1   \n116578           2017-06-09 00:00:00              1   \n116579           2017-03-07 00:00:00              1   \n116580           2017-10-11 00:00:00              1   \n\n                              product_id                         seller_id  \\\n0       a9516a079e37a9c9c36b9b78b10169e8  7c67e1448b00f6e969d365cea6b010ab   \n1       a9516a079e37a9c9c36b9b78b10169e8  7c67e1448b00f6e969d365cea6b010ab   \n2       a9516a079e37a9c9c36b9b78b10169e8  7c67e1448b00f6e969d365cea6b010ab   \n3       a9516a079e37a9c9c36b9b78b10169e8  7c67e1448b00f6e969d365cea6b010ab   \n4       a9516a079e37a9c9c36b9b78b10169e8  7c67e1448b00f6e969d365cea6b010ab   \n...                                  ...                               ...   \n116576  57bdf3098169cccdb62221bd3e089cbd  d98eec89afa3380e14463da2aabaea72   \n116577  57bdf3098169cccdb62221bd3e089cbd  d98eec89afa3380e14463da2aabaea72   \n116578  0ab3ab3b2869073aa9afe795fe9151aa  28ea411b354f14b1a494be4e79f0ce02   \n116579  6c7a0a349ad11817745e3ad58abd5c79  48162d548f5b1b11b9d29d1e01f75a61   \n116580  8db75af9aed3315374db44d7860e25da  4e922959ae960d389249c378d1c939f5   \n\n        shipping_limit_date   price  freight_value  \\\n0       2017-05-22 15:22:12  124.99          21.88   \n1       2017-11-23 00:47:18  112.99          24.90   \n2       2017-11-23 00:47:18  112.99          24.90   \n3       2017-05-22 22:22:56  124.99          15.62   \n4       2018-02-18 21:29:19  106.99          30.59   \n...                     ...     ...            ...   \n116576  2018-03-13 17:55:36   39.99          10.15   \n116577  2017-10-16 01:17:50   39.99          14.10   \n116578  2017-05-24 17:55:12  110.00          14.52   \n116579  2017-01-30 11:09:00  183.29          25.77   \n116580  2017-09-26 04:05:52  100.00          15.45   \n\n                               review_id  review_score review_comment_title  \\\n0       88b8b52d46df026a9d1ad2136a59b30b             4                  NaN   \n1       7fc63200f12eebb5f387856afdd63db8             1                  NaN   \n2       7fc63200f12eebb5f387856afdd63db8             1                  NaN   \n3       251191809e37c1cffc16865947c18a4d             3                  NaN   \n4       f7123bac5b91a0e2e38d8b41fd1206f4             4                  NaN   \n...                                  ...           ...                  ...   \n116576  048757148581cbd2c92bc96ca5d73211             5                  NaN   \n116577  549f0948d29acee5033f72e52f07dc8e             5                  NaN   \n116578  50039c19c4f3549ef7d42ee1204cd37f             5                  NaN   \n116579  82ec4a1c6f0134f607033e23431ee298             4                  NaN   \n116580  1067a7f22781153115958799dc72a8df             1                  NaN   \n\n                                   review_comment_message  \\\n0                                                     NaN   \n1       GOSTARIA DE UMA SOLUÇÃO, ESTOU PRECISANDO MUIT...   \n2       GOSTARIA DE UMA SOLUÇÃO, ESTOU PRECISANDO MUIT...   \n3       Produto compatível com seu valor, muito bonito...   \n4                                 Entregou antes do prazo   \n...                                                   ...   \n116576                                                NaN   \n116577                                                NaN   \n116578                                                NaN   \n116579                     Envio muito rápido. Recomendo.   \n116580  boa tarde produto enviado errado, terei que me...   \n\n       review_creation_date review_answer_timestamp  payment_sequential  \\\n0       2017-05-26 00:00:00     2017-05-30 22:34:40                   1   \n1       2017-11-29 00:00:00     2017-12-01 19:41:59                   1   \n2       2017-11-29 00:00:00     2017-12-01 19:41:59                   1   \n3       2017-05-27 00:00:00     2017-05-28 02:43:16                   1   \n4       2018-03-01 00:00:00     2018-03-02 11:11:24                   1   \n...                     ...                     ...                 ...   \n116576  2018-03-16 00:00:00     2018-03-19 09:12:20                   1   \n116577  2017-10-17 00:00:00     2017-10-21 01:21:12                   1   \n116578  2017-05-21 00:00:00     2017-05-24 01:52:16                   1   \n116579  2017-02-15 00:00:00     2017-02-16 02:54:35                   1   \n116580  2017-09-29 00:00:00     2017-09-30 20:49:37                   1   \n\n       payment_type  payment_installments  payment_value  \\\n0       credit_card                     2         146.87   \n1       credit_card                     1         275.79   \n2       credit_card                     1         275.79   \n3       credit_card                     7         140.61   \n4       credit_card                    10         137.58   \n...             ...                   ...            ...   \n116576  credit_card                     3         110.44   \n116577  credit_card                     1          54.09   \n116578  credit_card                     1         124.52   \n116579  credit_card                     1         209.06   \n116580       boleto                     1         115.45   \n\n                product_category_name  product_name_lenght  \\\n0                   moveis_escritorio                 41.0   \n1                   moveis_escritorio                 41.0   \n2                   moveis_escritorio                 41.0   \n3                   moveis_escritorio                 41.0   \n4                   moveis_escritorio                 41.0   \n...                               ...                  ...   \n116576  fashion_roupa_infanto_juvenil                 38.0   \n116577  fashion_roupa_infanto_juvenil                 38.0   \n116578  fashion_roupa_infanto_juvenil                 52.0   \n116579             seguros_e_servicos                 55.0   \n116580             seguros_e_servicos                 48.0   \n\n        product_description_lenght  product_photos_qty  product_weight_g  \\\n0                           1141.0                 1.0            8683.0   \n1                           1141.0                 1.0            8683.0   \n2                           1141.0                 1.0            8683.0   \n3                           1141.0                 1.0            8683.0   \n4                           1141.0                 1.0            8683.0   \n...                            ...                 ...               ...   \n116576                       168.0                 1.0             100.0   \n116577                       168.0                 1.0             100.0   \n116578                       494.0                 4.0             600.0   \n116579                       506.0                 1.0            1225.0   \n116580                       461.0                 4.0             400.0   \n\n        product_length_cm  product_height_cm  product_width_cm  \\\n0                    54.0               64.0              31.0   \n1                    54.0               64.0              31.0   \n2                    54.0               64.0              31.0   \n3                    54.0               64.0              31.0   \n4                    54.0               64.0              31.0   \n...                   ...                ...               ...   \n116576               16.0               16.0              16.0   \n116577               16.0               16.0              16.0   \n116578               36.0               10.0              26.0   \n116579               27.0               35.0              15.0   \n116580               26.0               22.0              11.0   \n\n       product_category_name_english  \n0                   office_furniture  \n1                   office_furniture  \n2                   office_furniture  \n3                   office_furniture  \n4                   office_furniture  \n...                              ...  \n116576     fashion_childrens_clothes  \n116577     fashion_childrens_clothes  \n116578     fashion_childrens_clothes  \n116579         security_and_services  \n116580         security_and_services  \n\n[116581 rows x 37 columns]",
      "text/html": "<div>\n<style scoped>\n    .dataframe tbody tr th:only-of-type {\n        vertical-align: middle;\n    }\n\n    .dataframe tbody tr th {\n        vertical-align: top;\n    }\n\n    .dataframe thead th {\n        text-align: right;\n    }\n</style>\n<table border=\"1\" class=\"dataframe\">\n  <thead>\n    <tr style=\"text-align: right;\">\n      <th></th>\n      <th>customer_id</th>\n      <th>customer_unique_id</th>\n      <th>customer_zip_code_prefix</th>\n      <th>customer_city</th>\n      <th>customer_state</th>\n      <th>order_id</th>\n      <th>order_status</th>\n      <th>order_purchase_timestamp</th>\n      <th>order_approved_at</th>\n      <th>order_delivered_carrier_date</th>\n      <th>order_delivered_customer_date</th>\n      <th>order_estimated_delivery_date</th>\n      <th>order_item_id</th>\n      <th>product_id</th>\n      <th>seller_id</th>\n      <th>shipping_limit_date</th>\n      <th>price</th>\n      <th>freight_value</th>\n      <th>review_id</th>\n      <th>review_score</th>\n      <th>review_comment_title</th>\n      <th>review_comment_message</th>\n      <th>review_creation_date</th>\n      <th>review_answer_timestamp</th>\n      <th>payment_sequential</th>\n      <th>payment_type</th>\n      <th>payment_installments</th>\n      <th>payment_value</th>\n      <th>product_category_name</th>\n      <th>product_name_lenght</th>\n      <th>product_description_lenght</th>\n      <th>product_photos_qty</th>\n      <th>product_weight_g</th>\n      <th>product_length_cm</th>\n      <th>product_height_cm</th>\n      <th>product_width_cm</th>\n      <th>product_category_name_english</th>\n    </tr>\n  </thead>\n  <tbody>\n    <tr>\n      <th>0</th>\n      <td>06b8999e2fba1a1fbc88172c00ba8bc7</td>\n      <td>861eff4711a542e4b93843c6dd7febb0</td>\n      <td>14409</td>\n      <td>franca</td>\n      <td>SP</td>\n      <td>00e7ee1b050b8499577073aeb2a297a1</td>\n      <td>delivered</td>\n      <td>2017-05-16 15:05:35</td>\n      <td>2017-05-16 15:22:12</td>\n      <td>2017-05-23 10:47:57</td>\n      <td>2017-05-25 10:35:35</td>\n      <td>2017-06-05 00:00:00</td>\n      <td>1</td>\n      <td>a9516a079e37a9c9c36b9b78b10169e8</td>\n      <td>7c67e1448b00f6e969d365cea6b010ab</td>\n      <td>2017-05-22 15:22:12</td>\n      <td>124.99</td>\n      <td>21.88</td>\n      <td>88b8b52d46df026a9d1ad2136a59b30b</td>\n      <td>4</td>\n      <td>NaN</td>\n      <td>NaN</td>\n      <td>2017-05-26 00:00:00</td>\n      <td>2017-05-30 22:34:40</td>\n      <td>1</td>\n      <td>credit_card</td>\n      <td>2</td>\n      <td>146.87</td>\n      <td>moveis_escritorio</td>\n      <td>41.0</td>\n      <td>1141.0</td>\n      <td>1.0</td>\n      <td>8683.0</td>\n      <td>54.0</td>\n      <td>64.0</td>\n      <td>31.0</td>\n      <td>office_furniture</td>\n    </tr>\n    <tr>\n      <th>1</th>\n      <td>8912fc0c3bbf1e2fbf35819e21706718</td>\n      <td>9eae34bbd3a474ec5d07949ca7de67c0</td>\n      <td>68030</td>\n      <td>santarem</td>\n      <td>PA</td>\n      <td>c1d2b34febe9cd269e378117d6681172</td>\n      <td>delivered</td>\n      <td>2017-11-09 00:50:13</td>\n      <td>2017-11-10 00:47:48</td>\n      <td>2017-11-22 01:43:37</td>\n      <td>2017-11-28 00:09:50</td>\n      <td>2017-12-19 00:00:00</td>\n      <td>1</td>\n      <td>a9516a079e37a9c9c36b9b78b10169e8</td>\n      <td>7c67e1448b00f6e969d365cea6b010ab</td>\n      <td>2017-11-23 00:47:18</td>\n      <td>112.99</td>\n      <td>24.90</td>\n      <td>7fc63200f12eebb5f387856afdd63db8</td>\n      <td>1</td>\n      <td>NaN</td>\n      <td>GOSTARIA DE UMA SOLUÇÃO, ESTOU PRECISANDO MUIT...</td>\n      <td>2017-11-29 00:00:00</td>\n      <td>2017-12-01 19:41:59</td>\n      <td>1</td>\n      <td>credit_card</td>\n      <td>1</td>\n      <td>275.79</td>\n      <td>moveis_escritorio</td>\n      <td>41.0</td>\n      <td>1141.0</td>\n      <td>1.0</td>\n      <td>8683.0</td>\n      <td>54.0</td>\n      <td>64.0</td>\n      <td>31.0</td>\n      <td>office_furniture</td>\n    </tr>\n    <tr>\n      <th>2</th>\n      <td>8912fc0c3bbf1e2fbf35819e21706718</td>\n      <td>9eae34bbd3a474ec5d07949ca7de67c0</td>\n      <td>68030</td>\n      <td>santarem</td>\n      <td>PA</td>\n      <td>c1d2b34febe9cd269e378117d6681172</td>\n      <td>delivered</td>\n      <td>2017-11-09 00:50:13</td>\n      <td>2017-11-10 00:47:48</td>\n      <td>2017-11-22 01:43:37</td>\n      <td>2017-11-28 00:09:50</td>\n      <td>2017-12-19 00:00:00</td>\n      <td>2</td>\n      <td>a9516a079e37a9c9c36b9b78b10169e8</td>\n      <td>7c67e1448b00f6e969d365cea6b010ab</td>\n      <td>2017-11-23 00:47:18</td>\n      <td>112.99</td>\n      <td>24.90</td>\n      <td>7fc63200f12eebb5f387856afdd63db8</td>\n      <td>1</td>\n      <td>NaN</td>\n      <td>GOSTARIA DE UMA SOLUÇÃO, ESTOU PRECISANDO MUIT...</td>\n      <td>2017-11-29 00:00:00</td>\n      <td>2017-12-01 19:41:59</td>\n      <td>1</td>\n      <td>credit_card</td>\n      <td>1</td>\n      <td>275.79</td>\n      <td>moveis_escritorio</td>\n      <td>41.0</td>\n      <td>1141.0</td>\n      <td>1.0</td>\n      <td>8683.0</td>\n      <td>54.0</td>\n      <td>64.0</td>\n      <td>31.0</td>\n      <td>office_furniture</td>\n    </tr>\n    <tr>\n      <th>3</th>\n      <td>f0ac8e5a239118859b1734e1087cbb1f</td>\n      <td>3c799d181c34d51f6d44bbbc563024db</td>\n      <td>92480</td>\n      <td>nova santa rita</td>\n      <td>RS</td>\n      <td>b1a5d5365d330d10485e0203d54ab9e8</td>\n      <td>delivered</td>\n      <td>2017-05-07 20:11:26</td>\n      <td>2017-05-08 22:22:56</td>\n      <td>2017-05-19 20:16:31</td>\n      <td>2017-05-26 09:54:04</td>\n      <td>2017-06-12 00:00:00</td>\n      <td>1</td>\n      <td>a9516a079e37a9c9c36b9b78b10169e8</td>\n      <td>7c67e1448b00f6e969d365cea6b010ab</td>\n      <td>2017-05-22 22:22:56</td>\n      <td>124.99</td>\n      <td>15.62</td>\n      <td>251191809e37c1cffc16865947c18a4d</td>\n      <td>3</td>\n      <td>NaN</td>\n      <td>Produto compatível com seu valor, muito bonito...</td>\n      <td>2017-05-27 00:00:00</td>\n      <td>2017-05-28 02:43:16</td>\n      <td>1</td>\n      <td>credit_card</td>\n      <td>7</td>\n      <td>140.61</td>\n      <td>moveis_escritorio</td>\n      <td>41.0</td>\n      <td>1141.0</td>\n      <td>1.0</td>\n      <td>8683.0</td>\n      <td>54.0</td>\n      <td>64.0</td>\n      <td>31.0</td>\n      <td>office_furniture</td>\n    </tr>\n    <tr>\n      <th>4</th>\n      <td>6bc8d08963a135220ed6c6d098831f84</td>\n      <td>23397e992b09769faf5e66f9e171a241</td>\n      <td>25931</td>\n      <td>mage</td>\n      <td>RJ</td>\n      <td>2e604b3614664aa66867856dba7e61b7</td>\n      <td>delivered</td>\n      <td>2018-02-03 19:45:40</td>\n      <td>2018-02-04 22:29:19</td>\n      <td>2018-02-19 18:21:47</td>\n      <td>2018-02-28 21:09:00</td>\n      <td>2018-03-22 00:00:00</td>\n      <td>1</td>\n      <td>a9516a079e37a9c9c36b9b78b10169e8</td>\n      <td>7c67e1448b00f6e969d365cea6b010ab</td>\n      <td>2018-02-18 21:29:19</td>\n      <td>106.99</td>\n      <td>30.59</td>\n      <td>f7123bac5b91a0e2e38d8b41fd1206f4</td>\n      <td>4</td>\n      <td>NaN</td>\n      <td>Entregou antes do prazo</td>\n      <td>2018-03-01 00:00:00</td>\n      <td>2018-03-02 11:11:24</td>\n      <td>1</td>\n      <td>credit_card</td>\n      <td>10</td>\n      <td>137.58</td>\n      <td>moveis_escritorio</td>\n      <td>41.0</td>\n      <td>1141.0</td>\n      <td>1.0</td>\n      <td>8683.0</td>\n      <td>54.0</td>\n      <td>64.0</td>\n      <td>31.0</td>\n      <td>office_furniture</td>\n    </tr>\n    <tr>\n      <th>...</th>\n      <td>...</td>\n      <td>...</td>\n      <td>...</td>\n      <td>...</td>\n      <td>...</td>\n      <td>...</td>\n      <td>...</td>\n      <td>...</td>\n      <td>...</td>\n      <td>...</td>\n      <td>...</td>\n      <td>...</td>\n      <td>...</td>\n      <td>...</td>\n      <td>...</td>\n      <td>...</td>\n      <td>...</td>\n      <td>...</td>\n      <td>...</td>\n      <td>...</td>\n      <td>...</td>\n      <td>...</td>\n      <td>...</td>\n      <td>...</td>\n      <td>...</td>\n      <td>...</td>\n      <td>...</td>\n      <td>...</td>\n      <td>...</td>\n      <td>...</td>\n      <td>...</td>\n      <td>...</td>\n      <td>...</td>\n      <td>...</td>\n      <td>...</td>\n      <td>...</td>\n      <td>...</td>\n    </tr>\n    <tr>\n      <th>116576</th>\n      <td>8325d6e7af2f2bfb58cf040729b232dd</td>\n      <td>a1d53377ab83871b0ad483b03ac69d6c</td>\n      <td>3570</td>\n      <td>sao paulo</td>\n      <td>SP</td>\n      <td>b99217b1fcf2fdeace7b8d869b76cb91</td>\n      <td>delivered</td>\n      <td>2018-03-07 17:42:06</td>\n      <td>2018-03-07 17:55:36</td>\n      <td>2018-03-08 20:09:40</td>\n      <td>2018-03-15 22:04:49</td>\n      <td>2018-04-02 00:00:00</td>\n      <td>1</td>\n      <td>57bdf3098169cccdb62221bd3e089cbd</td>\n      <td>d98eec89afa3380e14463da2aabaea72</td>\n      <td>2018-03-13 17:55:36</td>\n      <td>39.99</td>\n      <td>10.15</td>\n      <td>048757148581cbd2c92bc96ca5d73211</td>\n      <td>5</td>\n      <td>NaN</td>\n      <td>NaN</td>\n      <td>2018-03-16 00:00:00</td>\n      <td>2018-03-19 09:12:20</td>\n      <td>1</td>\n      <td>credit_card</td>\n      <td>3</td>\n      <td>110.44</td>\n      <td>fashion_roupa_infanto_juvenil</td>\n      <td>38.0</td>\n      <td>168.0</td>\n      <td>1.0</td>\n      <td>100.0</td>\n      <td>16.0</td>\n      <td>16.0</td>\n      <td>16.0</td>\n      <td>fashion_childrens_clothes</td>\n    </tr>\n    <tr>\n      <th>116577</th>\n      <td>85485f38b20ed1e287120d30cf39ee7d</td>\n      <td>f979a07fc18b2af3780a796ba14b96f4</td>\n      <td>4271</td>\n      <td>sao paulo</td>\n      <td>SP</td>\n      <td>9fa3a005f89a187501fa1bd63d6125fb</td>\n      <td>delivered</td>\n      <td>2017-10-08 23:51:49</td>\n      <td>2017-10-09 00:17:50</td>\n      <td>2017-10-10 20:52:05</td>\n      <td>2017-10-16 21:59:33</td>\n      <td>2017-11-08 00:00:00</td>\n      <td>1</td>\n      <td>57bdf3098169cccdb62221bd3e089cbd</td>\n      <td>d98eec89afa3380e14463da2aabaea72</td>\n      <td>2017-10-16 01:17:50</td>\n      <td>39.99</td>\n      <td>14.10</td>\n      <td>549f0948d29acee5033f72e52f07dc8e</td>\n      <td>5</td>\n      <td>NaN</td>\n      <td>NaN</td>\n      <td>2017-10-17 00:00:00</td>\n      <td>2017-10-21 01:21:12</td>\n      <td>1</td>\n      <td>credit_card</td>\n      <td>1</td>\n      <td>54.09</td>\n      <td>fashion_roupa_infanto_juvenil</td>\n      <td>38.0</td>\n      <td>168.0</td>\n      <td>1.0</td>\n      <td>100.0</td>\n      <td>16.0</td>\n      <td>16.0</td>\n      <td>16.0</td>\n      <td>fashion_childrens_clothes</td>\n    </tr>\n    <tr>\n      <th>116578</th>\n      <td>14acb30bbc064408dcb8cdd3c92b0c97</td>\n      <td>1b553902a5bbe6ee54a3aaa7cbfb6816</td>\n      <td>26255</td>\n      <td>nova iguacu</td>\n      <td>RJ</td>\n      <td>ee86b68eb9222b0cad7da50f4f758a35</td>\n      <td>delivered</td>\n      <td>2017-05-17 17:44:34</td>\n      <td>2017-05-17 17:55:12</td>\n      <td>2017-05-18 16:28:06</td>\n      <td>2017-05-20 08:44:01</td>\n      <td>2017-06-09 00:00:00</td>\n      <td>1</td>\n      <td>0ab3ab3b2869073aa9afe795fe9151aa</td>\n      <td>28ea411b354f14b1a494be4e79f0ce02</td>\n      <td>2017-05-24 17:55:12</td>\n      <td>110.00</td>\n      <td>14.52</td>\n      <td>50039c19c4f3549ef7d42ee1204cd37f</td>\n      <td>5</td>\n      <td>NaN</td>\n      <td>NaN</td>\n      <td>2017-05-21 00:00:00</td>\n      <td>2017-05-24 01:52:16</td>\n      <td>1</td>\n      <td>credit_card</td>\n      <td>1</td>\n      <td>124.52</td>\n      <td>fashion_roupa_infanto_juvenil</td>\n      <td>52.0</td>\n      <td>494.0</td>\n      <td>4.0</td>\n      <td>600.0</td>\n      <td>36.0</td>\n      <td>10.0</td>\n      <td>26.0</td>\n      <td>fashion_childrens_clothes</td>\n    </tr>\n    <tr>\n      <th>116579</th>\n      <td>363d3a9b2ec5c5426608688ca033292d</td>\n      <td>d8bee9ec375c3a0f9ef8ed7456a51dcd</td>\n      <td>76940</td>\n      <td>rolim de moura</td>\n      <td>RO</td>\n      <td>2c4ada2e75c2ad41dd93cebb5df5f023</td>\n      <td>delivered</td>\n      <td>2017-01-26 11:09:00</td>\n      <td>2017-01-26 11:22:17</td>\n      <td>2017-01-27 14:59:35</td>\n      <td>2017-02-14 16:24:01</td>\n      <td>2017-03-07 00:00:00</td>\n      <td>1</td>\n      <td>6c7a0a349ad11817745e3ad58abd5c79</td>\n      <td>48162d548f5b1b11b9d29d1e01f75a61</td>\n      <td>2017-01-30 11:09:00</td>\n      <td>183.29</td>\n      <td>25.77</td>\n      <td>82ec4a1c6f0134f607033e23431ee298</td>\n      <td>4</td>\n      <td>NaN</td>\n      <td>Envio muito rápido. Recomendo.</td>\n      <td>2017-02-15 00:00:00</td>\n      <td>2017-02-16 02:54:35</td>\n      <td>1</td>\n      <td>credit_card</td>\n      <td>1</td>\n      <td>209.06</td>\n      <td>seguros_e_servicos</td>\n      <td>55.0</td>\n      <td>506.0</td>\n      <td>1.0</td>\n      <td>1225.0</td>\n      <td>27.0</td>\n      <td>35.0</td>\n      <td>15.0</td>\n      <td>security_and_services</td>\n    </tr>\n    <tr>\n      <th>116580</th>\n      <td>919570a26efbd068d6a0f66d5c5072a3</td>\n      <td>141e824b8e0df709e3fcf6d982225a8e</td>\n      <td>71940</td>\n      <td>brasilia</td>\n      <td>DF</td>\n      <td>bede3503afed051733eeb4a84d1adcc5</td>\n      <td>delivered</td>\n      <td>2017-09-17 16:51:43</td>\n      <td>2017-09-19 04:05:52</td>\n      <td>2017-09-19 20:22:49</td>\n      <td>2017-09-28 18:14:35</td>\n      <td>2017-10-11 00:00:00</td>\n      <td>1</td>\n      <td>8db75af9aed3315374db44d7860e25da</td>\n      <td>4e922959ae960d389249c378d1c939f5</td>\n      <td>2017-09-26 04:05:52</td>\n      <td>100.00</td>\n      <td>15.45</td>\n      <td>1067a7f22781153115958799dc72a8df</td>\n      <td>1</td>\n      <td>NaN</td>\n      <td>boa tarde produto enviado errado, terei que me...</td>\n      <td>2017-09-29 00:00:00</td>\n      <td>2017-09-30 20:49:37</td>\n      <td>1</td>\n      <td>boleto</td>\n      <td>1</td>\n      <td>115.45</td>\n      <td>seguros_e_servicos</td>\n      <td>48.0</td>\n      <td>461.0</td>\n      <td>4.0</td>\n      <td>400.0</td>\n      <td>26.0</td>\n      <td>22.0</td>\n      <td>11.0</td>\n      <td>security_and_services</td>\n    </tr>\n  </tbody>\n</table>\n<p>116581 rows × 37 columns</p>\n</div>"
     },
     "metadata": {},
     "execution_count": 27
    }
   ],
   "source": [
    "df_raw"
   ]
  },
  {
   "cell_type": "code",
   "execution_count": 39,
   "metadata": {},
   "outputs": [],
   "source": [
    "dim = pd.read_excel('dictionnaire.xlsx', sheet_name='variable')\n",
    "columns = dim.variables[dim.model == 'yes'].to_list()"
   ]
  },
  {
   "cell_type": "code",
   "execution_count": 41,
   "metadata": {},
   "outputs": [
    {
     "output_type": "execute_result",
     "data": {
      "text/plain": "                             customer_id   price  freight_value  review_score  \\\n0       06b8999e2fba1a1fbc88172c00ba8bc7  124.99          21.88             4   \n1       8912fc0c3bbf1e2fbf35819e21706718  112.99          24.90             1   \n2       8912fc0c3bbf1e2fbf35819e21706718  112.99          24.90             1   \n3       f0ac8e5a239118859b1734e1087cbb1f  124.99          15.62             3   \n4       6bc8d08963a135220ed6c6d098831f84  106.99          30.59             4   \n...                                  ...     ...            ...           ...   \n116576  8325d6e7af2f2bfb58cf040729b232dd   39.99          10.15             5   \n116577  85485f38b20ed1e287120d30cf39ee7d   39.99          14.10             5   \n116578  14acb30bbc064408dcb8cdd3c92b0c97  110.00          14.52             5   \n116579  363d3a9b2ec5c5426608688ca033292d  183.29          25.77             4   \n116580  919570a26efbd068d6a0f66d5c5072a3  100.00          15.45             1   \n\n        payment_sequential payment_type  payment_value  product_name_lenght  \\\n0                        1  credit_card         146.87                 41.0   \n1                        1  credit_card         275.79                 41.0   \n2                        1  credit_card         275.79                 41.0   \n3                        1  credit_card         140.61                 41.0   \n4                        1  credit_card         137.58                 41.0   \n...                    ...          ...            ...                  ...   \n116576                   1  credit_card         110.44                 38.0   \n116577                   1  credit_card          54.09                 38.0   \n116578                   1  credit_card         124.52                 52.0   \n116579                   1  credit_card         209.06                 55.0   \n116580                   1       boleto         115.45                 48.0   \n\n        product_description_lenght  product_photos_qty  \\\n0                           1141.0                 1.0   \n1                           1141.0                 1.0   \n2                           1141.0                 1.0   \n3                           1141.0                 1.0   \n4                           1141.0                 1.0   \n...                            ...                 ...   \n116576                       168.0                 1.0   \n116577                       168.0                 1.0   \n116578                       494.0                 4.0   \n116579                       506.0                 1.0   \n116580                       461.0                 4.0   \n\n       product_category_name_english  \n0                   office_furniture  \n1                   office_furniture  \n2                   office_furniture  \n3                   office_furniture  \n4                   office_furniture  \n...                              ...  \n116576     fashion_childrens_clothes  \n116577     fashion_childrens_clothes  \n116578     fashion_childrens_clothes  \n116579         security_and_services  \n116580         security_and_services  \n\n[116581 rows x 11 columns]",
      "text/html": "<div>\n<style scoped>\n    .dataframe tbody tr th:only-of-type {\n        vertical-align: middle;\n    }\n\n    .dataframe tbody tr th {\n        vertical-align: top;\n    }\n\n    .dataframe thead th {\n        text-align: right;\n    }\n</style>\n<table border=\"1\" class=\"dataframe\">\n  <thead>\n    <tr style=\"text-align: right;\">\n      <th></th>\n      <th>customer_id</th>\n      <th>price</th>\n      <th>freight_value</th>\n      <th>review_score</th>\n      <th>payment_sequential</th>\n      <th>payment_type</th>\n      <th>payment_value</th>\n      <th>product_name_lenght</th>\n      <th>product_description_lenght</th>\n      <th>product_photos_qty</th>\n      <th>product_category_name_english</th>\n    </tr>\n  </thead>\n  <tbody>\n    <tr>\n      <th>0</th>\n      <td>06b8999e2fba1a1fbc88172c00ba8bc7</td>\n      <td>124.99</td>\n      <td>21.88</td>\n      <td>4</td>\n      <td>1</td>\n      <td>credit_card</td>\n      <td>146.87</td>\n      <td>41.0</td>\n      <td>1141.0</td>\n      <td>1.0</td>\n      <td>office_furniture</td>\n    </tr>\n    <tr>\n      <th>1</th>\n      <td>8912fc0c3bbf1e2fbf35819e21706718</td>\n      <td>112.99</td>\n      <td>24.90</td>\n      <td>1</td>\n      <td>1</td>\n      <td>credit_card</td>\n      <td>275.79</td>\n      <td>41.0</td>\n      <td>1141.0</td>\n      <td>1.0</td>\n      <td>office_furniture</td>\n    </tr>\n    <tr>\n      <th>2</th>\n      <td>8912fc0c3bbf1e2fbf35819e21706718</td>\n      <td>112.99</td>\n      <td>24.90</td>\n      <td>1</td>\n      <td>1</td>\n      <td>credit_card</td>\n      <td>275.79</td>\n      <td>41.0</td>\n      <td>1141.0</td>\n      <td>1.0</td>\n      <td>office_furniture</td>\n    </tr>\n    <tr>\n      <th>3</th>\n      <td>f0ac8e5a239118859b1734e1087cbb1f</td>\n      <td>124.99</td>\n      <td>15.62</td>\n      <td>3</td>\n      <td>1</td>\n      <td>credit_card</td>\n      <td>140.61</td>\n      <td>41.0</td>\n      <td>1141.0</td>\n      <td>1.0</td>\n      <td>office_furniture</td>\n    </tr>\n    <tr>\n      <th>4</th>\n      <td>6bc8d08963a135220ed6c6d098831f84</td>\n      <td>106.99</td>\n      <td>30.59</td>\n      <td>4</td>\n      <td>1</td>\n      <td>credit_card</td>\n      <td>137.58</td>\n      <td>41.0</td>\n      <td>1141.0</td>\n      <td>1.0</td>\n      <td>office_furniture</td>\n    </tr>\n    <tr>\n      <th>...</th>\n      <td>...</td>\n      <td>...</td>\n      <td>...</td>\n      <td>...</td>\n      <td>...</td>\n      <td>...</td>\n      <td>...</td>\n      <td>...</td>\n      <td>...</td>\n      <td>...</td>\n      <td>...</td>\n    </tr>\n    <tr>\n      <th>116576</th>\n      <td>8325d6e7af2f2bfb58cf040729b232dd</td>\n      <td>39.99</td>\n      <td>10.15</td>\n      <td>5</td>\n      <td>1</td>\n      <td>credit_card</td>\n      <td>110.44</td>\n      <td>38.0</td>\n      <td>168.0</td>\n      <td>1.0</td>\n      <td>fashion_childrens_clothes</td>\n    </tr>\n    <tr>\n      <th>116577</th>\n      <td>85485f38b20ed1e287120d30cf39ee7d</td>\n      <td>39.99</td>\n      <td>14.10</td>\n      <td>5</td>\n      <td>1</td>\n      <td>credit_card</td>\n      <td>54.09</td>\n      <td>38.0</td>\n      <td>168.0</td>\n      <td>1.0</td>\n      <td>fashion_childrens_clothes</td>\n    </tr>\n    <tr>\n      <th>116578</th>\n      <td>14acb30bbc064408dcb8cdd3c92b0c97</td>\n      <td>110.00</td>\n      <td>14.52</td>\n      <td>5</td>\n      <td>1</td>\n      <td>credit_card</td>\n      <td>124.52</td>\n      <td>52.0</td>\n      <td>494.0</td>\n      <td>4.0</td>\n      <td>fashion_childrens_clothes</td>\n    </tr>\n    <tr>\n      <th>116579</th>\n      <td>363d3a9b2ec5c5426608688ca033292d</td>\n      <td>183.29</td>\n      <td>25.77</td>\n      <td>4</td>\n      <td>1</td>\n      <td>credit_card</td>\n      <td>209.06</td>\n      <td>55.0</td>\n      <td>506.0</td>\n      <td>1.0</td>\n      <td>security_and_services</td>\n    </tr>\n    <tr>\n      <th>116580</th>\n      <td>919570a26efbd068d6a0f66d5c5072a3</td>\n      <td>100.00</td>\n      <td>15.45</td>\n      <td>1</td>\n      <td>1</td>\n      <td>boleto</td>\n      <td>115.45</td>\n      <td>48.0</td>\n      <td>461.0</td>\n      <td>4.0</td>\n      <td>security_and_services</td>\n    </tr>\n  </tbody>\n</table>\n<p>116581 rows × 11 columns</p>\n</div>"
     },
     "metadata": {},
     "execution_count": 41
    }
   ],
   "source": [
    "df = df_raw[columns]\n",
    "df"
   ]
  },
  {
   "cell_type": "code",
   "execution_count": 47,
   "metadata": {
    "tags": []
   },
   "outputs": [
    {
     "output_type": "execute_result",
     "data": {
      "text/plain": "product_category_name_english\nbed_bath_table              11990\nhealth_beauty               10030\nsports_leisure               9005\nfurniture_decor              8833\ncomputers_accessories        8151\nhousewares                   7380\nwatches_gifts                6213\ntelephony                    4726\ngarden_tools                 4590\nauto                         4400\ntoys                         4281\ncool_stuff                   3999\nperfumery                    3589\nbaby                         3204\nelectronics                  2847\nstationery                   2625\nfashion_bags_accessories     2170\npet_shop                     2030\noffice_furniture             1788\nconsoles_games               1192\nName: customer_id, dtype: int64"
     },
     "metadata": {},
     "execution_count": 47
    }
   ],
   "source": [
    "category = df.groupby('product_category_name_english')['customer_id'].count()\n",
    "category.sort_values(ascending=False).head(20)"
   ]
  },
  {
   "cell_type": "code",
   "execution_count": null,
   "metadata": {},
   "outputs": [],
   "source": []
  }
 ]
}