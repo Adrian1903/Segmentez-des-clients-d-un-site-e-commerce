{
 "metadata": {
  "language_info": {
   "codemirror_mode": {
    "name": "ipython",
    "version": 3
   },
   "file_extension": ".py",
   "mimetype": "text/x-python",
   "name": "python",
   "nbconvert_exporter": "python",
   "pygments_lexer": "ipython3",
   "version": "3.7.6-final"
  },
  "orig_nbformat": 2,
  "kernelspec": {
   "name": "python3",
   "display_name": "Python 3"
  }
 },
 "nbformat": 4,
 "nbformat_minor": 2,
 "cells": [
  {
   "cell_type": "code",
   "execution_count": 1,
   "metadata": {},
   "outputs": [],
   "source": [
    "import pandas as pd\n",
    "import glob\n",
    "import os"
   ]
  },
  {
   "cell_type": "code",
   "execution_count": 19,
   "metadata": {
    "tags": []
   },
   "outputs": [
    {
     "output_type": "stream",
     "name": "stdout",
     "text": "df_olist_customers\ndf_olist_geolocation\ndf_olist_orders\ndf_olist_order_items\ndf_olist_order_payments\ndf_olist_order_reviews\ndf_olist_products\ndf_olist_sellers\ndf_product_category_name_translation\n"
    }
   ],
   "source": [
    "for file in glob.glob(\"src/*.csv\"):\n",
    "    df_file = file.replace('src\\\\', 'df_').replace('_dataset.csv','').replace('.csv', '')\n",
    "    print(df_file)"
   ]
  },
  {
   "cell_type": "code",
   "execution_count": 38,
   "metadata": {},
   "outputs": [],
   "source": [
    "join = {'customer_zip_code_prefix', 'geolocation_zip_code_prefix'}"
   ]
  },
  {
   "cell_type": "code",
   "execution_count": 39,
   "metadata": {},
   "outputs": [
    {
     "output_type": "execute_result",
     "data": {
      "text/plain": "{'customer_zip_code_prefix': 'geolocation_zip_code_prefix  '}"
     },
     "metadata": {},
     "execution_count": 39
    }
   ],
   "source": [
    "join"
   ]
  },
  {
   "cell_type": "code",
   "execution_count": 41,
   "metadata": {
    "tags": []
   },
   "outputs": [
    {
     "output_type": "stream",
     "name": "stdout",
     "text": "df_olist_customers\n<class 'pandas.core.frame.DataFrame'>\nRangeIndex: 99441 entries, 0 to 99440\nData columns (total 5 columns):\n #   Column                    Non-Null Count  Dtype \n---  ------                    --------------  ----- \n 0   customer_id               99441 non-null  object\n 1   customer_unique_id        99441 non-null  object\n 2   customer_zip_code_prefix  99441 non-null  int64 \n 3   customer_city             99441 non-null  object\n 4   customer_state            99441 non-null  object\ndtypes: int64(1), object(4)\nmemory usage: 3.8+ MB\n"
    },
    {
     "output_type": "display_data",
     "data": {
      "text/plain": "None"
     },
     "metadata": {}
    },
    {
     "output_type": "stream",
     "name": "stdout",
     "text": "df_olist_geolocation\n<class 'pandas.core.frame.DataFrame'>\nRangeIndex: 1000163 entries, 0 to 1000162\nData columns (total 5 columns):\n #   Column                       Non-Null Count    Dtype  \n---  ------                       --------------    -----  \n 0   geolocation_zip_code_prefix  1000163 non-null  int64  \n 1   geolocation_lat              1000163 non-null  float64\n 2   geolocation_lng              1000163 non-null  float64\n 3   geolocation_city             1000163 non-null  object \n 4   geolocation_state            1000163 non-null  object \ndtypes: float64(2), int64(1), object(2)\nmemory usage: 38.2+ MB\n"
    },
    {
     "output_type": "display_data",
     "data": {
      "text/plain": "None"
     },
     "metadata": {}
    },
    {
     "output_type": "stream",
     "name": "stdout",
     "text": "Jointure de df_olist_geolocation\ndf_olist_orders\n<class 'pandas.core.frame.DataFrame'>\nRangeIndex: 99441 entries, 0 to 99440\nData columns (total 8 columns):\n #   Column                         Non-Null Count  Dtype \n---  ------                         --------------  ----- \n 0   order_id                       99441 non-null  object\n 1   customer_id                    99441 non-null  object\n 2   order_status                   99441 non-null  object\n 3   order_purchase_timestamp       99441 non-null  object\n 4   order_approved_at              99281 non-null  object\n 5   order_delivered_carrier_date   97658 non-null  object\n 6   order_delivered_customer_date  96476 non-null  object\n 7   order_estimated_delivery_date  99441 non-null  object\ndtypes: object(8)\nmemory usage: 6.1+ MB\n"
    },
    {
     "output_type": "display_data",
     "data": {
      "text/plain": "None"
     },
     "metadata": {}
    },
    {
     "output_type": "stream",
     "name": "stdout",
     "text": "Jointure de df_olist_orders\ndf_olist_order_items\n<class 'pandas.core.frame.DataFrame'>\nRangeIndex: 112650 entries, 0 to 112649\nData columns (total 7 columns):\n #   Column               Non-Null Count   Dtype  \n---  ------               --------------   -----  \n 0   order_id             112650 non-null  object \n 1   order_item_id        112650 non-null  int64  \n 2   product_id           112650 non-null  object \n 3   seller_id            112650 non-null  object \n 4   shipping_limit_date  112650 non-null  object \n 5   price                112650 non-null  float64\n 6   freight_value        112650 non-null  float64\ndtypes: float64(2), int64(1), object(4)\nmemory usage: 6.0+ MB\n"
    },
    {
     "output_type": "display_data",
     "data": {
      "text/plain": "None"
     },
     "metadata": {}
    },
    {
     "output_type": "stream",
     "name": "stdout",
     "text": "Jointure de df_olist_order_items\ndf_olist_order_payments\n<class 'pandas.core.frame.DataFrame'>\nRangeIndex: 103886 entries, 0 to 103885\nData columns (total 5 columns):\n #   Column                Non-Null Count   Dtype  \n---  ------                --------------   -----  \n 0   order_id              103886 non-null  object \n 1   payment_sequential    103886 non-null  int64  \n 2   payment_type          103886 non-null  object \n 3   payment_installments  103886 non-null  int64  \n 4   payment_value         103886 non-null  float64\ndtypes: float64(1), int64(2), object(2)\nmemory usage: 4.0+ MB\n"
    },
    {
     "output_type": "display_data",
     "data": {
      "text/plain": "None"
     },
     "metadata": {}
    },
    {
     "output_type": "stream",
     "name": "stdout",
     "text": "Jointure de df_olist_order_payments\ndf_olist_order_reviews\n<class 'pandas.core.frame.DataFrame'>\nRangeIndex: 100000 entries, 0 to 99999\nData columns (total 7 columns):\n #   Column                   Non-Null Count   Dtype \n---  ------                   --------------   ----- \n 0   review_id                100000 non-null  object\n 1   order_id                 100000 non-null  object\n 2   review_score             100000 non-null  int64 \n 3   review_comment_title     11715 non-null   object\n 4   review_comment_message   41753 non-null   object\n 5   review_creation_date     100000 non-null  object\n 6   review_answer_timestamp  100000 non-null  object\ndtypes: int64(1), object(6)\nmemory usage: 5.3+ MB\n"
    },
    {
     "output_type": "display_data",
     "data": {
      "text/plain": "None"
     },
     "metadata": {}
    },
    {
     "output_type": "stream",
     "name": "stdout",
     "text": "Jointure de df_olist_order_reviews\ndf_olist_products\n<class 'pandas.core.frame.DataFrame'>\nRangeIndex: 32951 entries, 0 to 32950\nData columns (total 9 columns):\n #   Column                      Non-Null Count  Dtype  \n---  ------                      --------------  -----  \n 0   product_id                  32951 non-null  object \n 1   product_category_name       32341 non-null  object \n 2   product_name_lenght         32341 non-null  float64\n 3   product_description_lenght  32341 non-null  float64\n 4   product_photos_qty          32341 non-null  float64\n 5   product_weight_g            32949 non-null  float64\n 6   product_length_cm           32949 non-null  float64\n 7   product_height_cm           32949 non-null  float64\n 8   product_width_cm            32949 non-null  float64\ndtypes: float64(7), object(2)\nmemory usage: 2.3+ MB\n"
    },
    {
     "output_type": "display_data",
     "data": {
      "text/plain": "None"
     },
     "metadata": {}
    },
    {
     "output_type": "stream",
     "name": "stdout",
     "text": "Jointure de df_olist_products\ndf_olist_sellers\n<class 'pandas.core.frame.DataFrame'>\nRangeIndex: 3095 entries, 0 to 3094\nData columns (total 4 columns):\n #   Column                  Non-Null Count  Dtype \n---  ------                  --------------  ----- \n 0   seller_id               3095 non-null   object\n 1   seller_zip_code_prefix  3095 non-null   int64 \n 2   seller_city             3095 non-null   object\n 3   seller_state            3095 non-null   object\ndtypes: int64(1), object(3)\nmemory usage: 96.8+ KB\n"
    },
    {
     "output_type": "display_data",
     "data": {
      "text/plain": "None"
     },
     "metadata": {}
    },
    {
     "output_type": "stream",
     "name": "stdout",
     "text": "Jointure de df_olist_sellers\ndf_product_category_name_translation\n<class 'pandas.core.frame.DataFrame'>\nRangeIndex: 71 entries, 0 to 70\nData columns (total 2 columns):\n #   Column                         Non-Null Count  Dtype \n---  ------                         --------------  ----- \n 0   product_category_name          71 non-null     object\n 1   product_category_name_english  71 non-null     object\ndtypes: object(2)\nmemory usage: 1.2+ KB\n"
    },
    {
     "output_type": "display_data",
     "data": {
      "text/plain": "None"
     },
     "metadata": {}
    },
    {
     "output_type": "stream",
     "name": "stdout",
     "text": "Jointure de df_product_category_name_translation\n"
    }
   ],
   "source": [
    "i = 0\n",
    "for file in glob.glob(\"src/*.csv\"):\n",
    "    df_name = file.replace('src\\\\', 'df_').replace('_dataset.csv','').replace('.csv', '')\n",
    "    print(df_name)\n",
    "    df_file = pd.read_csv(file)\n",
    "    display(df_file.info())\n",
    "    #display(df_file.head())\n",
    "    if i == 0:\n",
    "        df = df_file\n",
    "    else: \n",
    "        print(f'Jointure de {df_name}')\n",
    "        try:\n",
    "            df = pd.merge(df, df_file)\n",
    "        except:\n",
    "            df = pd.merge(df, df_file, left_on='customer_zip_code_prefix', right_on='geolocation_zip_code_prefix')\n",
    "    i = i + 1\n"
   ]
  },
  {
   "cell_type": "code",
   "execution_count": 43,
   "metadata": {},
   "outputs": [
    {
     "output_type": "execute_result",
     "data": {
      "text/plain": "(17799100, 45)"
     },
     "metadata": {},
     "execution_count": 43
    }
   ],
   "source": [
    "df.shape"
   ]
  }
 ]
}